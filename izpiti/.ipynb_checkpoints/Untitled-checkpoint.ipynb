{
 "cells": [
  {
   "cell_type": "code",
   "execution_count": 9,
   "metadata": {
    "collapsed": false
   },
   "outputs": [
    {
     "data": {
      "image/png": "[encoded data removed]",
      "text/plain": [
       "<matplotlib.figure.Figure at 0x25bb11eb9b0>"
      ]
     },
     "metadata": {},
     "output_type": "display_data"
    }
   ],
   "source": [
    "import matplotlib.pyplot as plt\n",
    "import sys\n",
    "\n",
    "sys.setrecursionlimit(10000)\n",
    "\n",
    "memo = None\n",
    "\n",
    "def st_s(n):\n",
    "    global memo\n",
    "    global stack\n",
    "    memo = [-1 for i in range(n+4)]\n",
    "    stack = 0\n",
    "    memo[0] = 1\n",
    "    memo[1] = 1\n",
    "    memo[2] = 2\n",
    "    memo[3] = 4\n",
    "\n",
    "    s=st_stolpov(n)\n",
    "    return s, stack\n",
    "\n",
    "def st_s2(n):\n",
    "    global memo\n",
    "    global stack\n",
    "    memo = [-1 for i in range(n+4)]\n",
    "    stack = 0\n",
    "    memo[0] = 1\n",
    "    memo[1] = 1\n",
    "    memo[2] = 2\n",
    "    memo[3] = 4\n",
    "\n",
    "    s=st_stolpov2(n)\n",
    "    return s, stack\n",
    "\n",
    "\n",
    "def st_stolpov(n):\n",
    "    global stack\n",
    "    global memo\n",
    "\n",
    "    if memo[n] != -1:\n",
    "        return memo[n]\n",
    "    stack += 1\n",
    "    if (n % 2) == 0:\n",
    "        l = n // 2\n",
    "        s = st_stolpov(l)\n",
    "        s1 = st_stolpov(l - 1)\n",
    "        s2 = st_stolpov(l - 2)\n",
    "        memo[n] = s * s + s1 * s1 + 2 * s1 * s2\n",
    "        return s * s + s1 * s1 + 2 * s1 * s2\n",
    "    else:\n",
    "        l = n // 2\n",
    "        s = st_stolpov(l)\n",
    "        s1 = st_stolpov(l - 1)\n",
    "        s2 = st_stolpov(l -2)\n",
    "        sp1 = st_stolpov(l + 1)\n",
    "        memo[n] = s*sp1+s*s1+s1*s1+s*s2\n",
    "        return s*sp1+s*s1+s1*s1+s*s2\n",
    "\n",
    "def st_stolpov2(n):\n",
    "    global stack\n",
    "    global memo\n",
    "\n",
    "    if memo[n] != -1:\n",
    "        return memo[n]\n",
    "\n",
    "    stack += 1\n",
    "    memo[n] = st_stolpov2(n-1) + st_stolpov2(n-2) + st_stolpov2(n-3)\n",
    "    return st_stolpov2(n-1) + st_stolpov2(n-2) + st_stolpov2(n-3)\n",
    "\n",
    "\n",
    "x1 = []\n",
    "y1 = []\n",
    "x2 = []\n",
    "y2 = []\n",
    "for i in range(0,10000):\n",
    "    s,n = st_s(i)\n",
    "    s2,n2 = st_s2(i)\n",
    "    if s != s2:\n",
    "        print(i, s, s2)\n",
    "    x1.append(i)\n",
    "    x2.append(i)\n",
    "    y1.append(n)\n",
    "    y2.append(n2)\n",
    "\n",
    "\n",
    "\n",
    "fig = plt.figure()\n",
    "ax1 = fig.add_subplot(111)\n",
    "\n",
    "ax1.scatter(x1,y1, color=\"red\",label='logn')\n",
    "ax1.scatter(x1,y2, color=\"blue\", label='n')\n",
    "\n",
    "plt.legend(loc='upper left');\n",
    "plt.show()\n",
    "\n"
   ]
  },
  {
   "cell_type": "code",
   "execution_count": null,
   "metadata": {
    "collapsed": true
   },
   "outputs": [],
   "source": []
  }
 ],
 "metadata": {
  "anaconda-cloud": {},
  "kernelspec": {
   "display_name": "Python [conda root]",
   "language": "python",
   "name": "conda-root-py"
  },
  "language_info": {
   "codemirror_mode": {
    "name": "ipython",
    "version": 3
   },
   "file_extension": ".py",
   "mimetype": "text/x-python",
   "name": "python",
   "nbconvert_exporter": "python",
   "pygments_lexer": "ipython3",
   "version": "3.5.2"
  }
 },
 "nbformat": 4,
 "nbformat_minor": 1
}
